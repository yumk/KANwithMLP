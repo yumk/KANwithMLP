{
 "cells": [
  {
   "cell_type": "code",
   "execution_count": 33,
   "metadata": {},
   "outputs": [],
   "source": [
    "#项目讲解链接：https://www.bilibili.com/video/BV1Nw4m1D75E/?spm_id_from=333.999.0.0&vd_source=6528929ff3772e61e9f5baf9b8ab1e64\n",
    "import matplotlib.pyplot as plt\n",
    "from tqdm import tqdm\n",
    "import numpy as np\n",
    "import pandas as pd\n",
    "import torch\n",
    "import torch.nn as nn\n",
    "import torch.optim as optim\n",
    "import torchvision.transforms as transforms\n",
    "from torchvision.datasets import MNIST\n",
    "from torch.utils.data import DataLoader\n",
    "from model.SimpleCNN import *\n",
    "from model.KAN import KAN_Convolution_Network\n"
   ]
  },
  {
   "cell_type": "code",
   "execution_count": 14,
   "metadata": {},
   "outputs": [],
   "source": [
    "# 定义数据转换操作，将图像转换为Tensor并进行归一化处理\n",
    "transform = transforms.Compose([\n",
    "    transforms.ToTensor(),  # 将图像转换为Tensor\n",
    "    transforms.Normalize((0.5,), (0.5,))  # 归一化，将图像数据的每个通道归一化到均值为0.5，标准差为0.5\n",
    "])\n",
    "# 加载MNIST训练集，并应用定义好的数据转换操作\n",
    "mnist_train = MNIST(root='./data', train=True, download=True, transform=transform)\n",
    "# 加载MNIST测试集，并应用定义好的数据转换操作\n",
    "mnist_test = MNIST(root='./data', train=False, download=True, transform=transform)\n",
    "# 定义训练数据的DataLoader，用于批量加载数据\n",
    "train_loader = DataLoader(mnist_train, batch_size=64, shuffle=True)\n",
    "# 定义测试数据的DataLoader，用于批量加载数据\n",
    "test_loader = DataLoader(mnist_test, batch_size=64, shuffle=False)"
   ]
  },
  {
   "cell_type": "code",
   "execution_count": 15,
   "metadata": {},
   "outputs": [],
   "source": [
    "def train(model, device, train_loader, optimizer, epoch, criterion):\n",
    "    \"\"\"\n",
    "    训练模型一个epoch\n",
    "\n",
    "    参数:\n",
    "        model: 神经网络模型\n",
    "        device: 使用的设备（cuda或cpu）\n",
    "        train_loader: 训练数据的DataLoader\n",
    "        optimizer: 优化器（例如SGD）\n",
    "        epoch: 当前的epoch数\n",
    "        criterion: 损失函数（例如CrossEntropy）\n",
    "\n",
    "    返回:\n",
    "        avg_loss: 当前epoch的平均损失\n",
    "    \"\"\"\n",
    "    model.to(device)  # 将模型加载到指定设备上\n",
    "    model.train()  # 设置模型为训练模式\n",
    "    train_loss = 0  # 初始化训练损失\n",
    "    # 分批处理图像\n",
    "    for batch_idx, (data, target) in enumerate(tqdm(train_loader)):\n",
    "        data, target = data.to(device), target.to(device)  # 将数据和目标加载到指定设备上    \n",
    "        optimizer.zero_grad()  # 重置优化器的梯度\n",
    "        output = model(data)  # 将数据前向传递通过模型层   \n",
    "        loss = criterion(output, target)  # 计算损失\n",
    "        train_loss += loss.item()  # 累加损失     \n",
    "        loss.backward()  # 反向传播\n",
    "        optimizer.step()  # 优化器更新参数\n",
    "        \n",
    "    avg_loss = train_loss / (batch_idx+1)  # 计算当前epoch的平均损失\n",
    "    return avg_loss\n",
    "\n",
    "def test(model, device, test_loader, criterion):\n",
    "    \"\"\"\n",
    "    测试模型\n",
    "\n",
    "    参数:\n",
    "        model: 神经网络模型\n",
    "        device: 使用的设备（cuda或cpu）\n",
    "        test_loader: 测试数据的DataLoader\n",
    "        criterion: 损失函数（例如CrossEntropy）\n",
    "\n",
    "    返回:\n",
    "        test_loss: 测试集上的平均损失\n",
    "        accuracy: 模型在测试集上的准确率\n",
    "        precision: 模型在测试集上的精确率\n",
    "        recall: 模型在测试集上的召回率\n",
    "        f1: 模型在测试集上的F1分数\n",
    "    \"\"\"\n",
    "    model.eval()  # 设置模型为评估模式\n",
    "    test_loss = 0  # 初始化测试损失\n",
    "    correct = 0  # 初始化正确预测计数\n",
    "    all_targets = []  # 初始化所有真实标签列表\n",
    "    all_predictions = []  # 初始化所有预测标签列表\n",
    "    \n",
    "    with torch.no_grad():  # 在不计算梯度的上下文中\n",
    "        for data, target in test_loader:\n",
    "            data, target = data.to(device), target.to(device)  # 将数据和目标加载到指定设备上    \n",
    "            output = model(data)  # 获取预测结果\n",
    "            test_loss += criterion(output, target).item()  # 计算并累加损失\n",
    "            _, predicted = torch.max(output.data, 1)  # 获取预测的类别\n",
    "            correct += (target == predicted).sum().item()  # 计算正确预测的数量\n",
    "            all_targets.extend(target.view_as(predicted).cpu().numpy())  # 收集所有真实标签\n",
    "            all_predictions.extend(predicted.cpu().numpy())  # 收集所有预测标签\n",
    "\n",
    "    test_loss /= len(test_loader.dataset)  # 归一化测试损失\n",
    "    accuracy = correct / len(test_loader.dataset)  # 计算准确率\n",
    "    return test_loss, accuracy\n"
   ]
  },
  {
   "cell_type": "code",
   "execution_count": 16,
   "metadata": {},
   "outputs": [],
   "source": [
    "def train_and_test_models(model, device, train_loader, test_loader, optimizer, criterion, epochs, scheduler):\n",
    "    \"\"\"\n",
    "    训练并测试模型\n",
    "\n",
    "    参数:\n",
    "        model: 神经网络模型\n",
    "        device: 使用的设备（cuda或cpu）\n",
    "        train_loader: 训练数据的DataLoader\n",
    "        test_loader: 测试数据的DataLoader\n",
    "        optimizer: 优化器（例如SGD）\n",
    "        criterion: 损失函数（例如CrossEntropy）\n",
    "        epochs: 训练的epoch数\n",
    "        scheduler: 学习率调度器\n",
    "\n",
    "    返回:\n",
    "        all_train_loss: 每个epoch的平均训练损失列表\n",
    "        all_test_loss: 每个epoch的平均测试损失列表\n",
    "        all_test_accuracy: 每个epoch的准确率列表\n",
    "        all_test_precision: 每个epoch的精确率列表\n",
    "        all_test_recall: 每个epoch的召回率列表\n",
    "        all_test_f1: 每个epoch的F1分数列表\n",
    "    \"\"\"\n",
    "    # 跟踪指标\n",
    "    all_train_loss = []\n",
    "    all_test_loss = []\n",
    "    all_test_accuracy = []\n",
    "\n",
    "    for epoch in range(1, epochs + 1):\n",
    "        # 训练模型\n",
    "        train_loss = train(model, device, train_loader, optimizer, epoch, criterion)\n",
    "        all_train_loss.append(train_loss)\n",
    "        # 测试模型\n",
    "        test_loss, test_accuracy = test(model, device, test_loader, criterion)\n",
    "        all_test_loss.append(test_loss)\n",
    "        all_test_accuracy.append(test_accuracy)\n",
    "        print(f'Epoch {epoch}: train_loss: {train_loss:.6f}, test_loss: {test_loss:.4f}, accuracy: {test_accuracy:.2%}')\n",
    "        scheduler.step()\n",
    "    model.all_test_accuracy = all_test_accuracy\n",
    "\n",
    "    return all_train_loss, all_test_loss, all_test_accuracy\n"
   ]
  },
  {
   "cell_type": "code",
   "execution_count": 17,
   "metadata": {},
   "outputs": [
    {
     "name": "stderr",
     "output_type": "stream",
     "text": [
      "100%|██████████| 938/938 [00:05<00:00, 157.49it/s]\n"
     ]
    },
    {
     "name": "stdout",
     "output_type": "stream",
     "text": [
      "Epoch 1: train_loss: 0.432571, test_loss: 0.0025, accuracy: 95.26%\n"
     ]
    },
    {
     "name": "stderr",
     "output_type": "stream",
     "text": [
      "100%|██████████| 938/938 [00:05<00:00, 157.54it/s]\n"
     ]
    },
    {
     "name": "stdout",
     "output_type": "stream",
     "text": [
      "Epoch 2: train_loss: 0.143548, test_loss: 0.0018, accuracy: 96.52%\n"
     ]
    },
    {
     "name": "stderr",
     "output_type": "stream",
     "text": [
      "100%|██████████| 938/938 [00:05<00:00, 158.87it/s]\n"
     ]
    },
    {
     "name": "stdout",
     "output_type": "stream",
     "text": [
      "Epoch 3: train_loss: 0.116358, test_loss: 0.0015, accuracy: 96.83%\n"
     ]
    },
    {
     "name": "stderr",
     "output_type": "stream",
     "text": [
      "100%|██████████| 938/938 [00:05<00:00, 157.72it/s]\n"
     ]
    },
    {
     "name": "stdout",
     "output_type": "stream",
     "text": [
      "Epoch 4: train_loss: 0.103746, test_loss: 0.0013, accuracy: 97.27%\n"
     ]
    },
    {
     "name": "stderr",
     "output_type": "stream",
     "text": [
      "100%|██████████| 938/938 [00:05<00:00, 156.98it/s]\n"
     ]
    },
    {
     "name": "stdout",
     "output_type": "stream",
     "text": [
      "Epoch 5: train_loss: 0.095698, test_loss: 0.0013, accuracy: 97.35%\n"
     ]
    },
    {
     "name": "stderr",
     "output_type": "stream",
     "text": [
      "100%|██████████| 938/938 [00:05<00:00, 158.58it/s]\n"
     ]
    },
    {
     "name": "stdout",
     "output_type": "stream",
     "text": [
      "Epoch 6: train_loss: 0.089295, test_loss: 0.0012, accuracy: 97.46%\n"
     ]
    },
    {
     "name": "stderr",
     "output_type": "stream",
     "text": [
      "100%|██████████| 938/938 [00:06<00:00, 155.98it/s]\n"
     ]
    },
    {
     "name": "stdout",
     "output_type": "stream",
     "text": [
      "Epoch 7: train_loss: 0.085485, test_loss: 0.0012, accuracy: 97.60%\n"
     ]
    },
    {
     "name": "stderr",
     "output_type": "stream",
     "text": [
      "100%|██████████| 938/938 [00:05<00:00, 156.63it/s]\n"
     ]
    },
    {
     "name": "stdout",
     "output_type": "stream",
     "text": [
      "Epoch 8: train_loss: 0.082067, test_loss: 0.0012, accuracy: 97.66%\n"
     ]
    },
    {
     "name": "stderr",
     "output_type": "stream",
     "text": [
      "100%|██████████| 938/938 [00:06<00:00, 155.92it/s]\n"
     ]
    },
    {
     "name": "stdout",
     "output_type": "stream",
     "text": [
      "Epoch 9: train_loss: 0.079759, test_loss: 0.0012, accuracy: 97.60%\n"
     ]
    },
    {
     "name": "stderr",
     "output_type": "stream",
     "text": [
      "100%|██████████| 938/938 [00:05<00:00, 157.24it/s]\n"
     ]
    },
    {
     "name": "stdout",
     "output_type": "stream",
     "text": [
      "Epoch 10: train_loss: 0.078000, test_loss: 0.0011, accuracy: 97.73%\n"
     ]
    }
   ],
   "source": [
    "# 检查并设置设备 纯四层卷积\n",
    "device = torch.device(\"cuda\" if torch.cuda.is_available() else \"cpu\")\n",
    "# 创建简单的CNN模型实例\n",
    "model_SimpleCNN = SimpleCNN()\n",
    "# 将模型移动到指定设备上\n",
    "model_SimpleCNN.to(device)\n",
    "# 定义优化器\n",
    "optimizer_SimpleCNN = optim.AdamW(model_SimpleCNN.parameters(), lr=1e-3, weight_decay=1e-4)\n",
    "# 定义学习率调度器\n",
    "scheduler_SimpleCNN = optim.lr_scheduler.ExponentialLR(optimizer_SimpleCNN, gamma=0.8)\n",
    "# 定义损失函数\n",
    "criterion_SimpleCNN = nn.CrossEntropyLoss()\n",
    "# 训练并测试简单CNN模型\n",
    "all_train_loss_SimpleCNN, all_test_loss_SimpleCNN, all_test_accuracy_SimpleCNN = train_and_test_models(\n",
    "    model_SimpleCNN, \n",
    "    device, \n",
    "    train_loader, \n",
    "    test_loader, \n",
    "    optimizer_SimpleCNN, \n",
    "    criterion_SimpleCNN, \n",
    "    epochs=10, \n",
    "    scheduler=scheduler_SimpleCNN\n",
    ")\n"
   ]
  },
  {
   "cell_type": "code",
   "execution_count": 36,
   "metadata": {},
   "outputs": [
    {
     "name": "stderr",
     "output_type": "stream",
     "text": [
      "  0%|          | 0/938 [00:00<?, ?it/s]"
     ]
    },
    {
     "name": "stderr",
     "output_type": "stream",
     "text": [
      "100%|██████████| 938/938 [00:17<00:00, 53.16it/s]\n"
     ]
    },
    {
     "name": "stdout",
     "output_type": "stream",
     "text": [
      "Epoch 1: train_loss: 0.335626, test_loss: 0.0019, accuracy: 96.50%\n"
     ]
    },
    {
     "name": "stderr",
     "output_type": "stream",
     "text": [
      "100%|██████████| 938/938 [00:17<00:00, 53.22it/s]\n"
     ]
    },
    {
     "name": "stdout",
     "output_type": "stream",
     "text": [
      "Epoch 2: train_loss: 0.110500, test_loss: 0.0013, accuracy: 97.34%\n"
     ]
    },
    {
     "name": "stderr",
     "output_type": "stream",
     "text": [
      "100%|██████████| 938/938 [00:20<00:00, 45.37it/s]\n"
     ]
    },
    {
     "name": "stdout",
     "output_type": "stream",
     "text": [
      "Epoch 3: train_loss: 0.082664, test_loss: 0.0011, accuracy: 98.03%\n"
     ]
    },
    {
     "name": "stderr",
     "output_type": "stream",
     "text": [
      "100%|██████████| 938/938 [00:23<00:00, 40.42it/s]\n"
     ]
    },
    {
     "name": "stdout",
     "output_type": "stream",
     "text": [
      "Epoch 4: train_loss: 0.069046, test_loss: 0.0010, accuracy: 98.00%\n"
     ]
    },
    {
     "name": "stderr",
     "output_type": "stream",
     "text": [
      "100%|██████████| 938/938 [00:23<00:00, 39.35it/s]\n"
     ]
    },
    {
     "name": "stdout",
     "output_type": "stream",
     "text": [
      "Epoch 5: train_loss: 0.061395, test_loss: 0.0009, accuracy: 98.14%\n"
     ]
    },
    {
     "name": "stderr",
     "output_type": "stream",
     "text": [
      "100%|██████████| 938/938 [00:22<00:00, 41.98it/s]\n"
     ]
    },
    {
     "name": "stdout",
     "output_type": "stream",
     "text": [
      "Epoch 6: train_loss: 0.055840, test_loss: 0.0009, accuracy: 98.10%\n"
     ]
    },
    {
     "name": "stderr",
     "output_type": "stream",
     "text": [
      "100%|██████████| 938/938 [00:20<00:00, 45.80it/s]\n"
     ]
    },
    {
     "name": "stdout",
     "output_type": "stream",
     "text": [
      "Epoch 7: train_loss: 0.052040, test_loss: 0.0009, accuracy: 98.17%\n"
     ]
    },
    {
     "name": "stderr",
     "output_type": "stream",
     "text": [
      "100%|██████████| 938/938 [00:22<00:00, 42.15it/s]\n"
     ]
    },
    {
     "name": "stdout",
     "output_type": "stream",
     "text": [
      "Epoch 8: train_loss: 0.049106, test_loss: 0.0009, accuracy: 98.18%\n"
     ]
    },
    {
     "name": "stderr",
     "output_type": "stream",
     "text": [
      "100%|██████████| 938/938 [00:23<00:00, 39.44it/s]\n"
     ]
    },
    {
     "name": "stdout",
     "output_type": "stream",
     "text": [
      "Epoch 9: train_loss: 0.046988, test_loss: 0.0008, accuracy: 98.29%\n"
     ]
    },
    {
     "name": "stderr",
     "output_type": "stream",
     "text": [
      "100%|██████████| 938/938 [00:22<00:00, 41.63it/s]\n"
     ]
    },
    {
     "name": "stdout",
     "output_type": "stream",
     "text": [
      "Epoch 10: train_loss: 0.045078, test_loss: 0.0008, accuracy: 98.24%\n"
     ]
    }
   ],
   "source": [
    "from torch import nn # KAN_Cov+Linear 只更改卷积\n",
    "import torch.nn.functional as F\n",
    "from Kan_Convolution.KANConv import KAN_Convolutional_Layer\n",
    "from Kan_Convolution.KANLinear import KANLinear\n",
    "\n",
    "class KAN_Convolution_mlp_Network(nn.Module):\n",
    "    def __init__(self,device: str = 'cpu'):\n",
    "        super().__init__()\n",
    "        # 创建一个KAN_Convolutional_Layer实例作为第一层卷积层\n",
    "        self.conv1 = KAN_Convolutional_Layer(\n",
    "            n_convs = 5, # 包含了5个卷积操作 \n",
    "            kernel_size= (3,3),\n",
    "            device = device\n",
    "        )\n",
    "        self.conv2 = KAN_Convolutional_Layer(\n",
    "            n_convs = 5,\n",
    "            kernel_size = (3,3),\n",
    "            device = device\n",
    "        )\n",
    "        self.pool1 = nn.MaxPool2d(\n",
    "            kernel_size=(2, 2)\n",
    "        )\n",
    "        self.flat = nn.Flatten() \n",
    "        self.fc = nn.Linear(625, 10)\n",
    "        # self.kan1 = KANLinear(\n",
    "        #     784,\n",
    "        #     10,\n",
    "        #     grid_size=10,\n",
    "        #     spline_order=3,\n",
    "        #     scale_noise=0.01,\n",
    "        #     scale_base=1,\n",
    "        #     scale_spline=1,\n",
    "        #     base_activation=nn.SiLU,\n",
    "        #     grid_eps=0.02,\n",
    "        #     grid_range=[0,1],\n",
    "        # )\n",
    "\n",
    "    def forward(self, x):\n",
    "        x = self.conv1(x)\n",
    "        x = self.pool1(x)\n",
    "        x = self.conv2(x)\n",
    "        x = self.pool1(x)\n",
    "        x = self.flat(x)\n",
    "        x = self.fc(x) \n",
    "        x = F.log_softmax(x, dim=1)\n",
    "        return x\n",
    "# 创建KAN卷积神经网络模型实例 \n",
    "model_KAN_Convolution_Network = KAN_Convolution_mlp_Network(device=device)\n",
    "# 将模型移动到指定设备上\n",
    "model_KAN_Convolution_Network.to(device)\n",
    "# 定义优化器\n",
    "optimizer_KAN_Convolution_Network = optim.AdamW(model_KAN_Convolution_Network.parameters(), lr=1e-3, weight_decay=1e-4)\n",
    "# 定义学习率调度器\n",
    "scheduler_KAN_Convolution_Network = optim.lr_scheduler.ExponentialLR(optimizer_KAN_Convolution_Network, gamma=0.8)\n",
    "# 定义损失函数\n",
    "criterion_KAN_Convolution_Network = nn.CrossEntropyLoss()\n",
    "# 训练并测试KKAN卷积神经网络模型\n",
    "all_train_loss_KKAN_Convolutional_Network, all_test_loss_KAN_Convolution_Network, all_test_accuracy_KAN_Convolution_Network = train_and_test_models(\n",
    "    model_KAN_Convolution_Network, \n",
    "    device, \n",
    "    train_loader, \n",
    "    test_loader, \n",
    "    optimizer_KAN_Convolution_Network, \n",
    "    criterion_KAN_Convolution_Network, \n",
    "    epochs=10, \n",
    "    scheduler=scheduler_KAN_Convolution_Network\n",
    ")\n"
   ]
  },
  {
   "cell_type": "code",
   "execution_count": 25,
   "metadata": {},
   "outputs": [
    {
     "name": "stderr",
     "output_type": "stream",
     "text": [
      "100%|██████████| 938/938 [00:28<00:00, 33.47it/s]\n"
     ]
    },
    {
     "name": "stdout",
     "output_type": "stream",
     "text": [
      "Epoch 1: train_loss: 0.312648, test_loss: 0.0013, accuracy: 97.67%\n"
     ]
    },
    {
     "name": "stderr",
     "output_type": "stream",
     "text": [
      "100%|██████████| 938/938 [00:29<00:00, 31.91it/s]\n"
     ]
    },
    {
     "name": "stdout",
     "output_type": "stream",
     "text": [
      "Epoch 2: train_loss: 0.070798, test_loss: 0.0009, accuracy: 98.12%\n"
     ]
    },
    {
     "name": "stderr",
     "output_type": "stream",
     "text": [
      "100%|██████████| 938/938 [00:29<00:00, 32.18it/s]\n"
     ]
    },
    {
     "name": "stdout",
     "output_type": "stream",
     "text": [
      "Epoch 3: train_loss: 0.049869, test_loss: 0.0008, accuracy: 98.53%\n"
     ]
    },
    {
     "name": "stderr",
     "output_type": "stream",
     "text": [
      "100%|██████████| 938/938 [00:29<00:00, 32.05it/s]\n"
     ]
    },
    {
     "name": "stdout",
     "output_type": "stream",
     "text": [
      "Epoch 4: train_loss: 0.038113, test_loss: 0.0008, accuracy: 98.44%\n"
     ]
    },
    {
     "name": "stderr",
     "output_type": "stream",
     "text": [
      "100%|██████████| 938/938 [00:28<00:00, 32.52it/s]\n"
     ]
    },
    {
     "name": "stdout",
     "output_type": "stream",
     "text": [
      "Epoch 5: train_loss: 0.030945, test_loss: 0.0007, accuracy: 98.63%\n"
     ]
    },
    {
     "name": "stderr",
     "output_type": "stream",
     "text": [
      "100%|██████████| 938/938 [00:28<00:00, 33.46it/s]\n"
     ]
    },
    {
     "name": "stdout",
     "output_type": "stream",
     "text": [
      "Epoch 6: train_loss: 0.025590, test_loss: 0.0007, accuracy: 98.67%\n"
     ]
    },
    {
     "name": "stderr",
     "output_type": "stream",
     "text": [
      "100%|██████████| 938/938 [00:27<00:00, 34.08it/s]\n"
     ]
    },
    {
     "name": "stdout",
     "output_type": "stream",
     "text": [
      "Epoch 7: train_loss: 0.021873, test_loss: 0.0006, accuracy: 98.61%\n"
     ]
    },
    {
     "name": "stderr",
     "output_type": "stream",
     "text": [
      "100%|██████████| 938/938 [00:28<00:00, 33.37it/s]\n"
     ]
    },
    {
     "name": "stdout",
     "output_type": "stream",
     "text": [
      "Epoch 8: train_loss: 0.018983, test_loss: 0.0006, accuracy: 98.67%\n"
     ]
    },
    {
     "name": "stderr",
     "output_type": "stream",
     "text": [
      "100%|██████████| 938/938 [00:27<00:00, 33.81it/s]\n"
     ]
    },
    {
     "name": "stdout",
     "output_type": "stream",
     "text": [
      "Epoch 9: train_loss: 0.017007, test_loss: 0.0006, accuracy: 98.73%\n"
     ]
    },
    {
     "name": "stderr",
     "output_type": "stream",
     "text": [
      "100%|██████████| 938/938 [00:27<00:00, 34.04it/s]\n"
     ]
    },
    {
     "name": "stdout",
     "output_type": "stream",
     "text": [
      "Epoch 10: train_loss: 0.015409, test_loss: 0.0006, accuracy: 98.60%\n"
     ]
    }
   ],
   "source": [
    "# 创建KAN卷积神经网络模型实例  KAN卷积+KAN替代线性层\n",
    "model_KAN_Convolution_Network2 = KAN_Convolution_Network(device=device)\n",
    "# 将模型移动到指定设备上\n",
    "model_KAN_Convolution_Network2.to(device)\n",
    "# 定义优化器\n",
    "optimizer_KAN_Convolution_Network = optim.AdamW(model_KAN_Convolution_Network.parameters(), lr=1e-3, weight_decay=1e-4)\n",
    "# 定义学习率调度器\n",
    "scheduler_KAN_Convolution_Network = optim.lr_scheduler.ExponentialLR(optimizer_KAN_Convolution_Network, gamma=0.8)\n",
    "# 定义损失函数\n",
    "criterion_KAN_Convolution_Network = nn.CrossEntropyLoss()\n",
    "# 训练并测试KKAN卷积神经网络模型\n",
    "all_train_loss_KAN_Convolutional_Network2, all_test_loss_KAN_Convolution_Network2, all_test_accuracy_KAN_Convolution_Network2 = train_and_test_models(\n",
    "    model_KAN_Convolution_Network2, \n",
    "    device, \n",
    "    train_loader, \n",
    "    test_loader, \n",
    "    optimizer_KAN_Convolution_Network, \n",
    "    criterion_KAN_Convolution_Network, \n",
    "    epochs=10, \n",
    "    scheduler=scheduler_KAN_Convolution_Network\n",
    ")\n"
   ]
  },
  {
   "cell_type": "code",
   "execution_count": 37,
   "metadata": {},
   "outputs": [
    {
     "data": {
      "image/png": "[encoded data removed]",
      "text/plain": [
       "<Figure size 1600x500 with 2 Axes>"
      ]
     },
     "metadata": {},
     "output_type": "display_data"
    }
   ],
   "source": [
    "# 定义函数用于计算模型的可训练参数数量\n",
    "def count_parameters(model):\n",
    "    return sum(p.numel() for p in model.parameters() if p.requires_grad)\n",
    "# 创建绘图窗口，包含两个子图\n",
    "fig, (ax1, ax2) = plt.subplots(1, 2, figsize=(16, 5))  \n",
    "# 在第一个子图中绘制测试集损失随着训练轮次的变化曲线\n",
    "ax1.plot(all_test_loss_SimpleCNN, label='Loss SimplieCNN', color='red')\n",
    "ax1.plot(all_test_loss_KAN_Convolution_Network, label='Loss KAN_Cov', color='orange')\n",
    "ax1.set_title('Loss Test vs Epochs')\n",
    "ax1.set_xlabel('Epochs')\n",
    "ax1.set_ylabel('Loss')\n",
    "ax1.legend()\n",
    "ax1.grid(True)\n",
    "# 在第二个子图中绘制模型参数数量与测试准确率的关系散点图\n",
    "ax2.scatter(count_parameters(model_SimpleCNN), max(all_test_accuracy_SimpleCNN), color='red', label='SimplieCNN')\n",
    "ax2.scatter(count_parameters(model_KAN_Convolution_Network), max(all_test_accuracy_KAN_Convolution_Network), color='orange', label='KAN_Cov')\n",
    "ax2.set_title('Number of Parameters vs Accuracy')\n",
    "ax2.set_xlabel('Number of Parameters')\n",
    "ax2.set_ylabel('Accuracy (%)')\n",
    "ax2.legend() \n",
    "ax2.grid(True)\n",
    "# 自动调整子图布局\n",
    "plt.tight_layout()\n",
    "# 显示图形\n",
    "plt.show()\n"
   ]
  },
  {
   "cell_type": "code",
   "execution_count": 41,
   "metadata": {},
   "outputs": [],
   "source": [
    "# 定义函数以突出显示最大值\n",
    "def highlight_max(s):\n",
    "    is_max = s == s.max()\n",
    "    return ['font-weight: bold' if v else '' for v in is_max]\n",
    "# 用于累积数据的列表\n",
    "accs = []\n",
    "params_counts = []\n",
    "# 模型和相应指标\n",
    "models = [model_SimpleCNN,model_KAN_Convolution_Network]\n",
    "\n",
    "# 数据收集\n",
    "for i, m in enumerate(models):\n",
    "    index = np.argmax(m.all_test_accuracy)\n",
    "    params_counts.append(count_parameters(m))\n",
    "    accs.append(m.all_test_accuracy[index])\n",
    "\n",
    "# 创建 DataFrame\n",
    "df = pd.DataFrame({\n",
    "    \"Test Accuracy\": accs,\n",
    "    \"Number of Parameters\": params_counts\n",
    "}, index=[\"SimpleCNN\", \"KAN_Cov\"])\n",
    "\n",
    "# 将 DataFrame 写入 CSV 文件\n",
    "df.to_csv('result.csv', index=False)\n",
    "\n",
    "# 应用样式\n",
    "df_styled = df.style.apply(highlight_max, subset=df.columns[:], axis=0).format('{:.3f}')\n"
   ]
  },
  {
   "cell_type": "code",
   "execution_count": 42,
   "metadata": {},
   "outputs": [
    {
     "data": {
      "text/html": [
       "<style type=\"text/css\">\n",
       "#T_91672_row1_col0, #T_91672_row1_col1 {\n",
       "  font-weight: bold;\n",
       "}\n",
       "</style>\n",
       "<table id=\"T_91672\">\n",
       "  <thead>\n",
       "    <tr>\n",
       "      <th class=\"blank level0\" >&nbsp;</th>\n",
       "      <th id=\"T_91672_level0_col0\" class=\"col_heading level0 col0\" >Test Accuracy</th>\n",
       "      <th id=\"T_91672_level0_col1\" class=\"col_heading level0 col1\" >Number of Parameters</th>\n",
       "    </tr>\n",
       "  </thead>\n",
       "  <tbody>\n",
       "    <tr>\n",
       "      <th id=\"T_91672_level0_row0\" class=\"row_heading level0 row0\" >SimpleCNN</th>\n",
       "      <td id=\"T_91672_row0_col0\" class=\"data row0 col0\" >0.977</td>\n",
       "      <td id=\"T_91672_row0_col1\" class=\"data row0 col1\" >2740.000</td>\n",
       "    </tr>\n",
       "    <tr>\n",
       "      <th id=\"T_91672_level0_row1\" class=\"row_heading level0 row1\" >KAN_Cov</th>\n",
       "      <td id=\"T_91672_row1_col0\" class=\"data row1 col0\" >0.983</td>\n",
       "      <td id=\"T_91672_row1_col1\" class=\"data row1 col1\" >7160.000</td>\n",
       "    </tr>\n",
       "  </tbody>\n",
       "</table>\n"
      ],
      "text/plain": [
       "<pandas.io.formats.style.Styler at 0x7fadfacd8e20>"
      ]
     },
     "execution_count": 42,
     "metadata": {},
     "output_type": "execute_result"
    }
   ],
   "source": [
    "df_styled"
   ]
  }
 ],
 "metadata": {
  "kernelspec": {
   "display_name": "ckan",
   "language": "python",
   "name": "python3"
  },
  "language_info": {
   "codemirror_mode": {
    "name": "ipython",
    "version": 3
   },
   "file_extension": ".py",
   "mimetype": "text/x-python",
   "name": "python",
   "nbconvert_exporter": "python",
   "pygments_lexer": "ipython3",
   "version": "3.9.19"
  }
 },
 "nbformat": 4,
 "nbformat_minor": 2
}
